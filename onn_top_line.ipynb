{
 "metadata": {
  "language_info": {
   "codemirror_mode": {
    "name": "ipython",
    "version": 3
   },
   "file_extension": ".py",
   "mimetype": "text/x-python",
   "name": "python",
   "nbconvert_exporter": "python",
   "pygments_lexer": "ipython3",
   "version": "3.7.9-final"
  },
  "orig_nbformat": 2,
  "kernelspec": {
   "name": "python3",
   "display_name": "Python 3.7.9 64-bit ('pytorch': conda)",
   "metadata": {
    "interpreter": {
     "hash": "3c5be2b06ed6dbdf00174833742462bf4dfeb93002accc42ac9edec65c60a8dd"
    }
   }
  }
 },
 "nbformat": 4,
 "nbformat_minor": 2,
 "cells": [
  {
   "cell_type": "code",
   "execution_count": null,
   "metadata": {},
   "outputs": [],
   "source": [
    "#-*- encoding: utf-8 -*-\n",
    "\n",
    "import os\n",
    "import numpy as np\n",
    "import imp\n",
    "\n",
    "from dataset import MNIST, Feature\n",
    "import model\n",
    "imp.reload(model)   # 不这样reload，调试的时候修改引用的py文件是没有作用的\n",
    "from model import Net, LossFunc, Optim\n"
   ]
  },
  {
   "cell_type": "code",
   "execution_count": null,
   "metadata": {},
   "outputs": [],
   "source": [
    "# network parameters\n",
    "input_size = 100\n",
    "layer1_node = 50\n",
    "layer2_node = 50\n",
    "batch_size = 1000\n",
    "num_class = 10\n",
    "\n",
    "epochs = [50, 50, 100]\n",
    "search_step = [40, 20, 10]\n"
   ]
  },
  {
   "cell_type": "code",
   "execution_count": null,
   "metadata": {},
   "outputs": [],
   "source": [
    "############### data pre-processing ###############\n",
    "\n",
    "train_set = MNIST('mnist', 'train', (10, 10))\n",
    "test_set = MNIST('mnist', 't10k', (10, 10))\n",
    "\n",
    "train_feature = Feature(train_set.data, kernel_size=(4,4), stride=(3,3))\n",
    "# train_v, _ = train_feature.calc_feature_vector()\n",
    "# train_compress_v = train_feature.compress()\n",
    "# train_fv, train_label = train_feature.encoding(train_v, is_round=True)\n",
    "# train_feature.hist(save_path='log/train_hist.png', data=train_fv)\n",
    "train_fv = train_feature._data['images'].reshape(-1, 100)\n",
    "train_label = train_feature._data['labels']\n",
    "input_train_data = train_feature.cut_into_batch(batch_size=1000, vector=train_fv, labels=train_label)\n",
    "\n",
    "test_feature = Feature(test_set.data, kernel_size=(4,4), stride=(3,3))\n",
    "# test_v, _ = test_feature.calc_feature_vector()\n",
    "# test_compress_v = test_feature.compress()\n",
    "# test_fv, test_label = test_feature.encoding(test_v, is_round=True)\n",
    "# test_feature.hist(save_path='log/test_hist.png', data=test_fv)\n",
    "test_fv = test_feature._data['images'].reshape(-1, 100)\n",
    "test_label = test_feature._data['labels']\n",
    "input_test_data = test_feature.cut_into_batch(batch_size=1000, vector=test_fv, labels=test_label)\n",
    "\n"
   ]
  },
  {
   "cell_type": "code",
   "execution_count": null,
   "metadata": {},
   "outputs": [],
   "source": [
    "train_fv.shape\n",
    "train_label.shape\n",
    "\n",
    "print(train_label[0:4])\n",
    "\n",
    "print(test_label[0:4])"
   ]
  },
  {
   "cell_type": "code",
   "execution_count": null,
   "metadata": {},
   "outputs": [],
   "source": [
    "############### model define ###############\n",
    "\n",
    "net = Net_1(input_size, layer1_node, num_class)\n",
    "# net = Net_2(input_size, layer1_node, layer2_node, num_class)\n",
    "loss = LossFunc()\n",
    "optimizer = Optim(net)"
   ]
  },
  {
   "source": [
    "############### train ###############\n",
    "\n",
    "for index in range(len(epochs)):\n",
    "    epoch = epochs[index]\n",
    "    optimizer.search_step = search_step[index]\n",
    "    for _ in range(epoch):\n",
    "        for i, (input, labels) in enumerate(input_train_data):\n",
    "            outputs = net(input)\n",
    "            # print(outputs[0])\n",
    "            # print(outputs[1])\n",
    "            # print(outputs[2])\n",
    "            # print()\n",
    "            # print(outputs.shape)\n",
    "            acc = loss(outputs, labels)\n",
    "            if i % 1000 == 0:\n",
    "                print(acc)\n",
    "            optimizer.update(acc, outputs, labels)"
   ],
   "cell_type": "code",
   "metadata": {
    "tags": [
     "outputPrepend"
    ]
   },
   "execution_count": null,
   "outputs": []
  },
  {
   "cell_type": "code",
   "execution_count": null,
   "metadata": {},
   "outputs": [],
   "source": []
  }
 ]
}