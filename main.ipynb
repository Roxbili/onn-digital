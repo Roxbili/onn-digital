{
 "metadata": {
  "language_info": {
   "codemirror_mode": {
    "name": "ipython",
    "version": 3
   },
   "file_extension": ".py",
   "mimetype": "text/x-python",
   "name": "python",
   "nbconvert_exporter": "python",
   "pygments_lexer": "ipython3",
   "version": 3
  },
  "orig_nbformat": 2
 },
 "nbformat": 4,
 "nbformat_minor": 2,
 "cells": [
  {
   "cell_type": "code",
   "execution_count": null,
   "metadata": {},
   "outputs": [],
   "source": [
    "#-*- encoding: utf-8 -*-\n",
    "\n",
    "import os\n",
    "import numpy as np\n",
    "\n",
    "from dataset import MNIST, Feature\n",
    "from model import Net, LossFunc, Optim"
   ]
  },
  {
   "cell_type": "code",
   "execution_count": null,
   "metadata": {},
   "outputs": [],
   "source": [
    "# network parameters\n",
    "input_size = 9\n",
    "layer1_node = 5\n",
    "batch_size = 1000\n",
    "num_class = 10\n",
    "\n",
    "epochs = [100, 100, 100]\n",
    "search_step = [200, 100, 20]\n"
   ]
  },
  {
   "cell_type": "code",
   "execution_count": null,
   "metadata": {},
   "outputs": [],
   "source": [
    "############### data pre-processing ###############\n",
    "\n",
    "train_set = MNIST('mnist', 'train', (10, 10))\n",
    "test_set = MNIST('mnist', 't10k', (10, 10))\n",
    "\n",
    "train_feature = Feature(train_set.data, kernel_size=(4,4), stride=(3,3))\n",
    "train_v, _ = train_feature.calc_feature_vector()\n",
    "# train_compress_v = train_feature.compress()\n",
    "train_fv, train_label = train_feature.encoding(train_v, is_round=True)\n",
    "# train_feature.hist(save_path='log/train_hist.png', data=train_fv)\n",
    "input_train_data = train_feature.cut_into_batch(batch_size=1000, vector=train_fv, labels=train_label)\n",
    "\n",
    "test_feature = Feature(test_set.data, kernel_size=(4,4), stride=(3,3))\n",
    "test_v, _ = test_feature.calc_feature_vector()\n",
    "# test_compress_v = test_feature.compress()\n",
    "test_fv, test_label = test_feature.encoding(test_v, is_round=True)\n",
    "# test_feature.hist(save_path='log/test_hist.png', data=test_fv)\n",
    "input_test_data = test_feature.cut_into_batch(batch_size=1000, vector=test_fv, labels=test_label)\n",
    "\n"
   ]
  },
  {
   "cell_type": "code",
   "execution_count": null,
   "metadata": {},
   "outputs": [],
   "source": [
    "############### model define ###############\n",
    "\n",
    "net = Net(input_size, layer1_node, num_class)\n",
    "loss = LossFunc()\n",
    "optimizer = Optim(net)"
   ]
  },
  {
   "cell_type": "code",
   "execution_count": null,
   "metadata": {},
   "outputs": [],
   "source": [
    "############### train ###############\n",
    "\n",
    "for index in range(len(epochs)):\n",
    "    epoch = epochs[index]\n",
    "    optimizer.search_step = search_step[index]\n",
    "    for _ in range(epoch):\n",
    "        for i, (input, labels) in enumerate(input_train_data):\n",
    "            outputs = net(input)\n",
    "            acc = loss(outputs, labels)\n",
    "            print(acc)\n",
    "            optimizer.update(acc, outputs, labels)"
   ]
  }
 ]
}